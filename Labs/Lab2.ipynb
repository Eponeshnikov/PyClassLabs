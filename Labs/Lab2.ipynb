{
 "cells": [
  {
   "cell_type": "markdown",
   "id": "a9baaffd-764d-48ce-83ac-bf3f32912664",
   "metadata": {},
   "source": [
    "# Lab 2\n",
    "In this lab we will learn constructurs, public & private members"
   ]
  },
  {
   "cell_type": "markdown",
   "id": "9614cf2f-dee9-4e72-920e-06839c9515f8",
   "metadata": {},
   "source": [
    "## Theory"
   ]
  },
  {
   "cell_type": "markdown",
   "id": "b384d6d8-6287-436c-b3a5-68e4cf118333",
   "metadata": {},
   "source": [
    "### Constructors"
   ]
  },
  {
   "cell_type": "markdown",
   "id": "93752d04-3373-4203-a19d-9cd0a1c57a96",
   "metadata": {},
   "source": [
    "```\n",
    "Constructor is the special method that is called \n",
    "automatically when a class instance is created.\n",
    "The idea of constructor is that is serves as \n",
    "instance initializer.\n",
    "```\n",
    "```\n",
    "In Python, constructors always have the special \n",
    "name __init__\n",
    "```"
   ]
  },
  {
   "cell_type": "code",
   "execution_count": 1,
   "id": "3f6188a5-04d6-4135-a43d-095eedd972d8",
   "metadata": {
    "execution": {
     "iopub.execute_input": "2022-05-27T23:00:49.675253Z",
     "iopub.status.busy": "2022-05-27T23:00:49.674254Z",
     "iopub.status.idle": "2022-05-27T23:00:49.687354Z",
     "shell.execute_reply": "2022-05-27T23:00:49.686272Z",
     "shell.execute_reply.started": "2022-05-27T23:00:49.675253Z"
    },
    "tags": []
   },
   "outputs": [],
   "source": [
    "class Fourth:\n",
    "    i = 1 #Some advice, use class attributes like general parameters, but you can easily move them inside constructor, for class instances it will the same behaviour\n",
    "    def __init__(self):\n",
    "        self.m1 = 777\n",
    "        self.m2 = [1,2,3]"
   ]
  },
  {
   "cell_type": "markdown",
   "id": "4623b553-df08-4238-a1ca-9a656a08e2a4",
   "metadata": {},
   "source": [
    "Constructor `__init__` should always have at least one parameter. This parameter will refer to the instance that is being created. Constructor adds two new members to the instance: m1 and m2\n"
   ]
  },
  {
   "cell_type": "code",
   "execution_count": 2,
   "id": "8062b6b0-f584-4c61-b548-0eb8238f6c73",
   "metadata": {
    "execution": {
     "iopub.execute_input": "2022-05-27T23:00:50.185141Z",
     "iopub.status.busy": "2022-05-27T23:00:50.184145Z",
     "iopub.status.idle": "2022-05-27T23:00:50.192144Z",
     "shell.execute_reply": "2022-05-27T23:00:50.191143Z",
     "shell.execute_reply.started": "2022-05-27T23:00:50.185141Z"
    },
    "tags": []
   },
   "outputs": [],
   "source": [
    "f = Fourth() #Constructor __init__ is automatically invoked here. It creates the new class instance and adds two members to it: m1 and m2"
   ]
  },
  {
   "cell_type": "code",
   "execution_count": 3,
   "id": "408a97e9-68f3-414c-b256-0b8f9718906b",
   "metadata": {
    "execution": {
     "iopub.execute_input": "2022-05-27T23:00:50.411438Z",
     "iopub.status.busy": "2022-05-27T23:00:50.410449Z",
     "iopub.status.idle": "2022-05-27T23:00:50.917632Z",
     "shell.execute_reply": "2022-05-27T23:00:50.916634Z",
     "shell.execute_reply.started": "2022-05-27T23:00:50.411438Z"
    },
    "tags": []
   },
   "outputs": [
    {
     "name": "stdout",
     "output_type": "stream",
     "text": [
      "777\n"
     ]
    },
    {
     "ename": "AttributeError",
     "evalue": "type object 'Fourth' has no attribute 'm1'",
     "output_type": "error",
     "traceback": [
      "\u001b[1;31m---------------------------------------------------------------------------\u001b[0m",
      "\u001b[1;31mAttributeError\u001b[0m                            Traceback (most recent call last)",
      "Input \u001b[1;32mIn [3]\u001b[0m, in \u001b[0;36m<cell line: 3>\u001b[1;34m()\u001b[0m\n\u001b[0;32m      1\u001b[0m \u001b[38;5;66;03m# Remember, that constructor create attributes for class INSTANCE\u001b[39;00m\n\u001b[0;32m      2\u001b[0m \u001b[38;5;28mprint\u001b[39m(f\u001b[38;5;241m.\u001b[39mm1)\n\u001b[1;32m----> 3\u001b[0m \u001b[38;5;28mprint\u001b[39m(\u001b[43mFourth\u001b[49m\u001b[38;5;241;43m.\u001b[39;49m\u001b[43mm1\u001b[49m)\n",
      "\u001b[1;31mAttributeError\u001b[0m: type object 'Fourth' has no attribute 'm1'"
     ]
    }
   ],
   "source": [
    "# Remember, that constructor create attributes for class INSTANCE\n",
    "print(f.m1)\n",
    "print(Fourth.m1)"
   ]
  },
  {
   "cell_type": "code",
   "execution_count": null,
   "id": "dbbc2c0a-deae-4238-8b4c-0d473a9d8d86",
   "metadata": {
    "execution": {
     "iopub.status.busy": "2022-05-27T23:00:50.918626Z",
     "iopub.status.idle": "2022-05-27T23:00:50.918626Z",
     "shell.execute_reply": "2022-05-27T23:00:50.918626Z",
     "shell.execute_reply.started": "2022-05-27T23:00:50.918626Z"
    },
    "tags": []
   },
   "outputs": [],
   "source": [
    "# If you want to get values from constructor without assigning class instance to some variable, you can use anonymous declaration\n",
    "Fourth().m1"
   ]
  },
  {
   "cell_type": "markdown",
   "id": "4652c239-e94b-4348-be4d-d59c90c3d74a",
   "metadata": {
    "tags": []
   },
   "source": [
    "Various instances of the same class (being created by different branches) can have different sets of attributes!![var_inst](../imgs/img2.png)"
   ]
  },
  {
   "cell_type": "code",
   "execution_count": 4,
   "id": "7e543ace-031b-40c0-b5cb-a8c70bf17aac",
   "metadata": {
    "execution": {
     "iopub.execute_input": "2022-05-27T23:00:51.150332Z",
     "iopub.status.busy": "2022-05-27T23:00:51.150332Z",
     "iopub.status.idle": "2022-05-27T23:00:51.167318Z",
     "shell.execute_reply": "2022-05-27T23:00:51.166317Z",
     "shell.execute_reply.started": "2022-05-27T23:00:51.150332Z"
    },
    "tags": []
   },
   "outputs": [],
   "source": [
    "class Fifth:\n",
    "    i = 12345\n",
    "    def __init__(self,k):\n",
    "        if k>0:\n",
    "            self.m1 = 777\n",
    "            self.m2 = [1,2,3]\n",
    "        else:\n",
    "            self.x1 = { 1, 2 }\n",
    "            self.x2 = 'string'"
   ]
  },
  {
   "cell_type": "code",
   "execution_count": 5,
   "id": "6726a0a6-ef2d-4d4b-8102-5b17b8971e84",
   "metadata": {
    "execution": {
     "iopub.execute_input": "2022-05-27T23:00:51.421328Z",
     "iopub.status.busy": "2022-05-27T23:00:51.420330Z",
     "iopub.status.idle": "2022-05-27T23:00:51.432697Z",
     "shell.execute_reply": "2022-05-27T23:00:51.431701Z",
     "shell.execute_reply.started": "2022-05-27T23:00:51.421328Z"
    },
    "tags": []
   },
   "outputs": [],
   "source": [
    "f1 = Fifth(1)\n",
    "f2 = Fifth(-1)"
   ]
  },
  {
   "cell_type": "code",
   "execution_count": 6,
   "id": "e0db96b0-15d7-4663-afa9-19bb2294a404",
   "metadata": {
    "execution": {
     "iopub.execute_input": "2022-05-27T23:00:51.681318Z",
     "iopub.status.busy": "2022-05-27T23:00:51.680319Z",
     "iopub.status.idle": "2022-05-27T23:00:51.699321Z",
     "shell.execute_reply": "2022-05-27T23:00:51.698315Z",
     "shell.execute_reply.started": "2022-05-27T23:00:51.681318Z"
    },
    "tags": []
   },
   "outputs": [],
   "source": [
    "# Explore f1 and f2, their attributes\n",
    "# Your code here"
   ]
  },
  {
   "cell_type": "markdown",
   "id": "0bf03d25-5c1a-4c7b-b5bb-9dd73300234f",
   "metadata": {},
   "source": [
    "### Public & Private Members"
   ]
  },
  {
   "cell_type": "markdown",
   "id": "419ed111-397c-42f8-9653-890490bb6090",
   "metadata": {},
   "source": [
    "An attribute whose name starts with two underscores is by definition considered private – i.e., it is not accessible from outside the class, including base classes"
   ]
  },
  {
   "cell_type": "code",
   "execution_count": 7,
   "id": "8224043a-bd9c-44a9-aac4-68c420abb977",
   "metadata": {
    "execution": {
     "iopub.execute_input": "2022-05-27T23:00:52.538011Z",
     "iopub.status.busy": "2022-05-27T23:00:52.538011Z",
     "iopub.status.idle": "2022-05-27T23:00:52.549124Z",
     "shell.execute_reply": "2022-05-27T23:00:52.548129Z",
     "shell.execute_reply.started": "2022-05-27T23:00:52.538011Z"
    },
    "tags": []
   },
   "outputs": [],
   "source": [
    "class Z:\n",
    "    def __init__(self,m):\n",
    "        self.__m = m\n",
    "    def __test(self):\n",
    "        print('test')\n"
   ]
  },
  {
   "cell_type": "code",
   "execution_count": 8,
   "id": "308ee737-04f8-402b-9ef8-fb9afc8b8252",
   "metadata": {
    "execution": {
     "iopub.execute_input": "2022-05-27T23:00:52.776501Z",
     "iopub.status.busy": "2022-05-27T23:00:52.775501Z",
     "iopub.status.idle": "2022-05-27T23:00:52.802576Z",
     "shell.execute_reply": "2022-05-27T23:00:52.801587Z",
     "shell.execute_reply.started": "2022-05-27T23:00:52.775501Z"
    },
    "tags": []
   },
   "outputs": [
    {
     "ename": "AttributeError",
     "evalue": "'Z' object has no attribute '__m'",
     "output_type": "error",
     "traceback": [
      "\u001b[1;31m---------------------------------------------------------------------------\u001b[0m",
      "\u001b[1;31mAttributeError\u001b[0m                            Traceback (most recent call last)",
      "Input \u001b[1;32mIn [8]\u001b[0m, in \u001b[0;36m<cell line: 2>\u001b[1;34m()\u001b[0m\n\u001b[0;32m      1\u001b[0m z \u001b[38;5;241m=\u001b[39m Z(\u001b[38;5;241m777\u001b[39m)\n\u001b[1;32m----> 2\u001b[0m \u001b[43mz\u001b[49m\u001b[38;5;241;43m.\u001b[39;49m\u001b[43m__m\u001b[49m\n",
      "\u001b[1;31mAttributeError\u001b[0m: 'Z' object has no attribute '__m'"
     ]
    }
   ],
   "source": [
    "z = Z(777)\n",
    "z.__m"
   ]
  },
  {
   "cell_type": "markdown",
   "id": "7f960fdd-3ff2-4539-97fb-0f06959dfb83",
   "metadata": {},
   "source": [
    "## Tasks"
   ]
  },
  {
   "cell_type": "markdown",
   "id": "ae11df7d-4d53-4ac9-9bde-c24ddd552aec",
   "metadata": {},
   "source": [
    "1. Create class with constructor with one parameter (string)\n",
    "2. Depends on input (circles, moons, blobs) create all necessary members for generation in constructor \n",
    "3. Implement private method for scaling data\n",
    "4. Implement method for plotting generated data, add parameter 'scaling', if scaling == True scale data before plotting\n",
    "5. Create different class instances and test your implementation (change attributes, parameters, call methods)\n",
    "\n",
    "References:\n",
    "+ Samples generators: https://scikit-learn.org/stable/modules/classes.html \n",
    "+ Scaling: https://scikit-learn.org/stable/modules/generated/sklearn.preprocessing.StandardScaler.html"
   ]
  },
  {
   "cell_type": "code",
   "execution_count": null,
   "id": "0ed03104-da0e-458f-9b89-60614e3f7215",
   "metadata": {},
   "outputs": [],
   "source": [
    "# Your code here"
   ]
  }
 ],
 "metadata": {
  "kernelspec": {
   "display_name": "Python 3 (ipykernel)",
   "language": "python",
   "name": "python3"
  },
  "language_info": {
   "codemirror_mode": {
    "name": "ipython",
    "version": 3
   },
   "file_extension": ".py",
   "mimetype": "text/x-python",
   "name": "python",
   "nbconvert_exporter": "python",
   "pygments_lexer": "ipython3",
   "version": "3.9.9"
  }
 },
 "nbformat": 4,
 "nbformat_minor": 5
}
