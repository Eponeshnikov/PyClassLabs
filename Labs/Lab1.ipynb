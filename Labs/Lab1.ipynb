{
 "cells": [
  {
   "cell_type": "markdown",
   "id": "baef663d-3b9c-4531-a749-00895a978f25",
   "metadata": {},
   "source": [
    "# Lab 1\n",
    "In this lab we will learn what is classes, how to create classes, class instances, how to add attributes to classes and modify them"
   ]
  },
  {
   "cell_type": "markdown",
   "id": "631a8d80-f238-4e44-a03e-cfff1a3d56f9",
   "metadata": {},
   "source": [
    "## Theory"
   ]
  },
  {
   "cell_type": "markdown",
   "id": "93098299-2d1d-4c80-a04b-d07737ca376c",
   "metadata": {
    "tags": []
   },
   "source": [
    "#### Classes & Objects\n",
    "```\n",
    "A class represents the general properties & the structure shared \n",
    "by a group of entities: the instances (or objects) of that class.\n",
    "```\n",
    "```\n",
    "An object is an instance of a class, a class in action.\n",
    "```\n",
    "```\n",
    "Object is a particular entity, which shares the general structure\n",
    "and behavior with all the other instances of the class it belongs to.\n",
    "```\n",
    "```\n",
    "Conceptual relationship between classes and objects is similar to \n",
    "that which exists between an abstract idea and a concrete \n",
    "example of it.\n",
    "```"
   ]
  },
  {
   "cell_type": "markdown",
   "id": "581979ba-88f6-425c-9c5a-97b24526a89c",
   "metadata": {},
   "source": [
    "Class specifies a pattern (a template, an example) \n",
    "for creating real entities of the class: they are \n",
    "called instances, or objects of the class.\n",
    "![classes](../imgs/img1.png)"
   ]
  },
  {
   "cell_type": "code",
   "execution_count": 33,
   "id": "27568f54-69be-46a0-804a-da26b10a06c9",
   "metadata": {
    "execution": {
     "iopub.execute_input": "2022-05-26T22:17:17.503126Z",
     "iopub.status.busy": "2022-05-26T22:17:17.502134Z",
     "iopub.status.idle": "2022-05-26T22:17:17.516874Z",
     "shell.execute_reply": "2022-05-26T22:17:17.515876Z",
     "shell.execute_reply.started": "2022-05-26T22:17:17.503126Z"
    },
    "tags": []
   },
   "outputs": [],
   "source": [
    "# Create class First. It's TEMPLATE for instances\n",
    "class First:\n",
    "    i = 12345\n",
    "    def hello():\n",
    "        print('Hello World')"
   ]
  },
  {
   "cell_type": "code",
   "execution_count": 34,
   "id": "e733b4e8-27ce-441f-bae0-bc82d0cfcc1c",
   "metadata": {
    "execution": {
     "iopub.execute_input": "2022-05-26T22:17:17.750430Z",
     "iopub.status.busy": "2022-05-26T22:17:17.750430Z",
     "iopub.status.idle": "2022-05-26T22:17:17.813779Z",
     "shell.execute_reply": "2022-05-26T22:17:17.812775Z",
     "shell.execute_reply.started": "2022-05-26T22:17:17.750430Z"
    },
    "tags": []
   },
   "outputs": [
    {
     "name": "stdout",
     "output_type": "stream",
     "text": [
      "Help on class First in module __main__:\n",
      "\n",
      "class First(builtins.object)\n",
      " |  Methods defined here:\n",
      " |  \n",
      " |  hello()\n",
      " |  \n",
      " |  ----------------------------------------------------------------------\n",
      " |  Data descriptors defined here:\n",
      " |  \n",
      " |  __dict__\n",
      " |      dictionary for instance variables (if defined)\n",
      " |  \n",
      " |  __weakref__\n",
      " |      list of weak references to the object (if defined)\n",
      " |  \n",
      " |  ----------------------------------------------------------------------\n",
      " |  Data and other attributes defined here:\n",
      " |  \n",
      " |  i = 12345\n",
      "\n"
     ]
    }
   ],
   "source": [
    "help(First) #Let's see structure of class using help method. We can see that there is one method hello() and one attribute i"
   ]
  },
  {
   "cell_type": "code",
   "execution_count": 35,
   "id": "2e8d169f-ee2e-4e6f-bc0b-e16565951136",
   "metadata": {
    "execution": {
     "iopub.execute_input": "2022-05-26T22:17:17.895888Z",
     "iopub.status.busy": "2022-05-26T22:17:17.894950Z",
     "iopub.status.idle": "2022-05-26T22:17:17.906894Z",
     "shell.execute_reply": "2022-05-26T22:17:17.905888Z",
     "shell.execute_reply.started": "2022-05-26T22:17:17.895888Z"
    },
    "tags": []
   },
   "outputs": [
    {
     "data": {
      "text/plain": [
       "12345"
      ]
     },
     "execution_count": 35,
     "metadata": {},
     "output_type": "execute_result"
    }
   ],
   "source": [
    "First.i # We can see value of attributes"
   ]
  },
  {
   "cell_type": "code",
   "execution_count": 36,
   "id": "9c0328aa-42f2-47e0-b2b9-0c7320fe082e",
   "metadata": {
    "execution": {
     "iopub.execute_input": "2022-05-26T22:17:18.080220Z",
     "iopub.status.busy": "2022-05-26T22:17:18.080220Z",
     "iopub.status.idle": "2022-05-26T22:17:18.096056Z",
     "shell.execute_reply": "2022-05-26T22:17:18.095054Z",
     "shell.execute_reply.started": "2022-05-26T22:17:18.080220Z"
    },
    "tags": []
   },
   "outputs": [
    {
     "name": "stdout",
     "output_type": "stream",
     "text": [
      "Hello World\n"
     ]
    }
   ],
   "source": [
    "First.hello() # We can call methods"
   ]
  },
  {
   "cell_type": "code",
   "execution_count": 37,
   "id": "4b5c7269-4cdb-4662-8095-83cf437d42f7",
   "metadata": {
    "execution": {
     "iopub.execute_input": "2022-05-26T22:17:18.279780Z",
     "iopub.status.busy": "2022-05-26T22:17:18.278781Z",
     "iopub.status.idle": "2022-05-26T22:17:18.299045Z",
     "shell.execute_reply": "2022-05-26T22:17:18.298033Z",
     "shell.execute_reply.started": "2022-05-26T22:17:18.279780Z"
    },
    "tags": []
   },
   "outputs": [
    {
     "data": {
      "text/plain": [
       "777"
      ]
     },
     "execution_count": 37,
     "metadata": {},
     "output_type": "execute_result"
    }
   ],
   "source": [
    "First.i = 777 # We can change attributes, methods\n",
    "First.i"
   ]
  },
  {
   "cell_type": "code",
   "execution_count": 38,
   "id": "05c144d7-29e6-4e8d-9ddf-9fd5f8f1d7f3",
   "metadata": {
    "execution": {
     "iopub.execute_input": "2022-05-26T22:17:18.452111Z",
     "iopub.status.busy": "2022-05-26T22:17:18.451116Z",
     "iopub.status.idle": "2022-05-26T22:17:18.472046Z",
     "shell.execute_reply": "2022-05-26T22:17:18.471041Z",
     "shell.execute_reply.started": "2022-05-26T22:17:18.452111Z"
    },
    "tags": []
   },
   "outputs": [],
   "source": [
    "First.x = [1,2] #We can define NEW attributes after class declararion "
   ]
  },
  {
   "cell_type": "code",
   "execution_count": 39,
   "id": "c3c0beb3-bc76-4999-874e-e15cf23fc8a4",
   "metadata": {
    "execution": {
     "iopub.execute_input": "2022-05-26T22:17:18.689705Z",
     "iopub.status.busy": "2022-05-26T22:17:18.689705Z",
     "iopub.status.idle": "2022-05-26T22:17:18.708364Z",
     "shell.execute_reply": "2022-05-26T22:17:18.707365Z",
     "shell.execute_reply.started": "2022-05-26T22:17:18.689705Z"
    },
    "tags": []
   },
   "outputs": [
    {
     "name": "stdout",
     "output_type": "stream",
     "text": [
      "hello2\n"
     ]
    }
   ],
   "source": [
    "First.hello2 = lambda : print('hello2') # We can define NEW methods after class declaration\n",
    "First.hello2()"
   ]
  },
  {
   "cell_type": "code",
   "execution_count": 40,
   "id": "be6c2b8a-c629-4e50-bc8d-fd3d0d0b1680",
   "metadata": {
    "execution": {
     "iopub.execute_input": "2022-05-26T22:17:18.979025Z",
     "iopub.status.busy": "2022-05-26T22:17:18.979025Z",
     "iopub.status.idle": "2022-05-26T22:17:18.988333Z",
     "shell.execute_reply": "2022-05-26T22:17:18.987324Z",
     "shell.execute_reply.started": "2022-05-26T22:17:18.979025Z"
    },
    "tags": []
   },
   "outputs": [
    {
     "name": "stdout",
     "output_type": "stream",
     "text": [
      "Help on class First in module __main__:\n",
      "\n",
      "class First(builtins.object)\n",
      " |  Methods defined here:\n",
      " |  \n",
      " |  hello()\n",
      " |  \n",
      " |  hello2 lambda (...)\n",
      " |  \n",
      " |  ----------------------------------------------------------------------\n",
      " |  Data descriptors defined here:\n",
      " |  \n",
      " |  __dict__\n",
      " |      dictionary for instance variables (if defined)\n",
      " |  \n",
      " |  __weakref__\n",
      " |      list of weak references to the object (if defined)\n",
      " |  \n",
      " |  ----------------------------------------------------------------------\n",
      " |  Data and other attributes defined here:\n",
      " |  \n",
      " |  i = 777\n",
      " |  \n",
      " |  x = [1, 2]\n",
      "\n"
     ]
    }
   ],
   "source": [
    "help(First) # Now structure of First has one new method, we changed value of i and added one new attribute"
   ]
  },
  {
   "cell_type": "markdown",
   "id": "e84d5807-46f1-47e2-98d2-be3d1cdd3e0f",
   "metadata": {
    "tags": []
   },
   "source": [
    "All actions above was connected with modifying **TEMPLATE** for future instances.\n",
    "\n",
    "Let's create class instance"
   ]
  },
  {
   "cell_type": "code",
   "execution_count": 41,
   "id": "dfe258d7-97bb-41d2-9510-79e15356cc14",
   "metadata": {
    "execution": {
     "iopub.execute_input": "2022-05-26T22:19:06.879949Z",
     "iopub.status.busy": "2022-05-26T22:19:06.878946Z",
     "iopub.status.idle": "2022-05-26T22:19:06.894952Z",
     "shell.execute_reply": "2022-05-26T22:19:06.893946Z",
     "shell.execute_reply.started": "2022-05-26T22:19:06.879949Z"
    }
   },
   "outputs": [],
   "source": [
    "f = First() # For creating class instaces we need use parentheses"
   ]
  },
  {
   "cell_type": "code",
   "execution_count": 43,
   "id": "6b93f73e-5eaa-4058-8578-18891b88f7c8",
   "metadata": {
    "execution": {
     "iopub.execute_input": "2022-05-26T22:20:08.454055Z",
     "iopub.status.busy": "2022-05-26T22:20:08.453064Z",
     "iopub.status.idle": "2022-05-26T22:20:08.462644Z",
     "shell.execute_reply": "2022-05-26T22:20:08.461568Z",
     "shell.execute_reply.started": "2022-05-26T22:20:08.454055Z"
    },
    "tags": []
   },
   "outputs": [
    {
     "name": "stdout",
     "output_type": "stream",
     "text": [
      "Help on First in module __main__ object:\n",
      "\n",
      "class First(builtins.object)\n",
      " |  Methods defined here:\n",
      " |  \n",
      " |  hello()\n",
      " |  \n",
      " |  hello2 lambda (...)\n",
      " |  \n",
      " |  ----------------------------------------------------------------------\n",
      " |  Data descriptors defined here:\n",
      " |  \n",
      " |  __dict__\n",
      " |      dictionary for instance variables (if defined)\n",
      " |  \n",
      " |  __weakref__\n",
      " |      list of weak references to the object (if defined)\n",
      " |  \n",
      " |  ----------------------------------------------------------------------\n",
      " |  Data and other attributes defined here:\n",
      " |  \n",
      " |  i = 777\n",
      " |  \n",
      " |  x = [1, 2]\n",
      "\n"
     ]
    }
   ],
   "source": [
    "help(f) # after creating it looks like template"
   ]
  },
  {
   "cell_type": "code",
   "execution_count": 45,
   "id": "a907d92d-af38-44c8-b6ed-8d13010f6718",
   "metadata": {
    "execution": {
     "iopub.execute_input": "2022-05-26T22:21:10.141263Z",
     "iopub.status.busy": "2022-05-26T22:21:10.140263Z",
     "iopub.status.idle": "2022-05-26T22:21:10.161336Z",
     "shell.execute_reply": "2022-05-26T22:21:10.160349Z",
     "shell.execute_reply.started": "2022-05-26T22:21:10.141263Z"
    },
    "tags": []
   },
   "outputs": [
    {
     "name": "stdout",
     "output_type": "stream",
     "text": [
      "777\n",
      "90\n"
     ]
    }
   ],
   "source": [
    "#we can modify attributes\n",
    "print(f.i)\n",
    "f.i = 90\n",
    "print(f.i)"
   ]
  },
  {
   "cell_type": "code",
   "execution_count": 50,
   "id": "6f66b701-d959-4ff4-a755-707ab62c5f63",
   "metadata": {
    "execution": {
     "iopub.execute_input": "2022-05-26T22:27:00.570303Z",
     "iopub.status.busy": "2022-05-26T22:27:00.570303Z",
     "iopub.status.idle": "2022-05-26T22:27:00.583329Z",
     "shell.execute_reply": "2022-05-26T22:27:00.581326Z",
     "shell.execute_reply.started": "2022-05-26T22:27:00.570303Z"
    },
    "tags": []
   },
   "outputs": [],
   "source": [
    "f.j = 'string' #we can add new attributes, methods to class instance"
   ]
  },
  {
   "cell_type": "code",
   "execution_count": 51,
   "id": "4dbe5789-21af-4345-8b46-7eef7b244a94",
   "metadata": {
    "execution": {
     "iopub.execute_input": "2022-05-26T22:27:00.763491Z",
     "iopub.status.busy": "2022-05-26T22:27:00.762488Z",
     "iopub.status.idle": "2022-05-26T22:27:00.800494Z",
     "shell.execute_reply": "2022-05-26T22:27:00.798493Z",
     "shell.execute_reply.started": "2022-05-26T22:27:00.763491Z"
    },
    "tags": []
   },
   "outputs": [
    {
     "name": "stdout",
     "output_type": "stream",
     "text": [
      "string\n"
     ]
    },
    {
     "ename": "AttributeError",
     "evalue": "type object 'First' has no attribute 'j'",
     "output_type": "error",
     "traceback": [
      "\u001b[1;31m---------------------------------------------------------------------------\u001b[0m",
      "\u001b[1;31mAttributeError\u001b[0m                            Traceback (most recent call last)",
      "Input \u001b[1;32mIn [51]\u001b[0m, in \u001b[0;36m<cell line: 2>\u001b[1;34m()\u001b[0m\n\u001b[0;32m      1\u001b[0m \u001b[38;5;28mprint\u001b[39m(f\u001b[38;5;241m.\u001b[39mj)\n\u001b[1;32m----> 2\u001b[0m \u001b[38;5;28mprint\u001b[39m(\u001b[43mFirst\u001b[49m\u001b[38;5;241;43m.\u001b[39;49m\u001b[43mj\u001b[49m)\n",
      "\u001b[1;31mAttributeError\u001b[0m: type object 'First' has no attribute 'j'"
     ]
    }
   ],
   "source": [
    "print(f.j)\n",
    "print(First.j) #j attribute only in f instance"
   ]
  },
  {
   "cell_type": "markdown",
   "id": "4e834ff4-ac42-4d78-9e65-738e83d2bfed",
   "metadata": {},
   "source": [
    "BUT! If we try call methods like from example with class (template) above, we get error"
   ]
  },
  {
   "cell_type": "code",
   "execution_count": 52,
   "id": "0fb6ffcd-2172-4bf7-a052-ed6183d077c9",
   "metadata": {
    "execution": {
     "iopub.execute_input": "2022-05-26T22:27:04.404553Z",
     "iopub.status.busy": "2022-05-26T22:27:04.404553Z",
     "iopub.status.idle": "2022-05-26T22:27:04.437938Z",
     "shell.execute_reply": "2022-05-26T22:27:04.436923Z",
     "shell.execute_reply.started": "2022-05-26T22:27:04.404553Z"
    },
    "tags": []
   },
   "outputs": [
    {
     "ename": "TypeError",
     "evalue": "hello() takes 0 positional arguments but 1 was given",
     "output_type": "error",
     "traceback": [
      "\u001b[1;31m---------------------------------------------------------------------------\u001b[0m",
      "\u001b[1;31mTypeError\u001b[0m                                 Traceback (most recent call last)",
      "Input \u001b[1;32mIn [52]\u001b[0m, in \u001b[0;36m<cell line: 1>\u001b[1;34m()\u001b[0m\n\u001b[1;32m----> 1\u001b[0m \u001b[43mf\u001b[49m\u001b[38;5;241;43m.\u001b[39;49m\u001b[43mhello\u001b[49m\u001b[43m(\u001b[49m\u001b[43m)\u001b[49m\n",
      "\u001b[1;31mTypeError\u001b[0m: hello() takes 0 positional arguments but 1 was given"
     ]
    }
   ],
   "source": [
    "f.hello()"
   ]
  },
  {
   "cell_type": "markdown",
   "id": "b52f3090-de09-4b70-b0f7-7b2f2f932add",
   "metadata": {},
   "source": [
    "By definition, the call to a class method via \n",
    "class instance is interpreted in the following \n",
    "way ***f.hello() => First.hello(f)***\n",
    "\n",
    "And our method hasn't got any parameters as input.\n",
    "\n",
    "\n",
    "1. To be callable via class instance, a method should be declared \n",
    "with **at least one parameter**.\n",
    "2. The meaning of this parameter is that the corresponding actual \n",
    "argument will refer **to the instance** for which the method gets \n",
    "called. \n",
    "\n",
    "Let's create new class with correct definition of methods"
   ]
  },
  {
   "cell_type": "code",
   "execution_count": 54,
   "id": "a7c3aba7-a791-4ec6-9d4d-f3125b5a1f00",
   "metadata": {
    "execution": {
     "iopub.execute_input": "2022-05-26T22:35:53.881525Z",
     "iopub.status.busy": "2022-05-26T22:35:53.881525Z",
     "iopub.status.idle": "2022-05-26T22:35:53.894218Z",
     "shell.execute_reply": "2022-05-26T22:35:53.893212Z",
     "shell.execute_reply.started": "2022-05-26T22:35:53.881525Z"
    },
    "tags": []
   },
   "outputs": [],
   "source": [
    "class Second:\n",
    "    i = 'string'\n",
    "    j = [1, 2]\n",
    "    def hello(self): # The name self is just a convention; it’s possible to use any name\n",
    "        print('Hello')"
   ]
  },
  {
   "cell_type": "code",
   "execution_count": 64,
   "id": "83a2280c-6cf5-4fde-9bee-d35eaae5f5a1",
   "metadata": {
    "execution": {
     "iopub.execute_input": "2022-05-26T22:45:10.567103Z",
     "iopub.status.busy": "2022-05-26T22:45:10.566097Z",
     "iopub.status.idle": "2022-05-26T22:45:10.580806Z",
     "shell.execute_reply": "2022-05-26T22:45:10.579807Z",
     "shell.execute_reply.started": "2022-05-26T22:45:10.567103Z"
    },
    "tags": []
   },
   "outputs": [
    {
     "name": "stdout",
     "output_type": "stream",
     "text": [
      "Hello\n"
     ]
    }
   ],
   "source": [
    "#Call via class object\n",
    "Second.hello(0) # in this case you can use any object as input"
   ]
  },
  {
   "cell_type": "code",
   "execution_count": 56,
   "id": "131e2daf-9641-41eb-9a94-85207cd9015c",
   "metadata": {
    "execution": {
     "iopub.execute_input": "2022-05-26T22:36:49.280533Z",
     "iopub.status.busy": "2022-05-26T22:36:49.279546Z",
     "iopub.status.idle": "2022-05-26T22:36:49.288744Z",
     "shell.execute_reply": "2022-05-26T22:36:49.288212Z",
     "shell.execute_reply.started": "2022-05-26T22:36:49.280533Z"
    }
   },
   "outputs": [
    {
     "name": "stdout",
     "output_type": "stream",
     "text": [
      "Hello\n"
     ]
    }
   ],
   "source": [
    "#Call via class instance\n",
    "s = Second()\n",
    "s.hello()"
   ]
  },
  {
   "cell_type": "code",
   "execution_count": 68,
   "id": "3ab0cc95-126c-4a60-84d2-6808a5544300",
   "metadata": {
    "execution": {
     "iopub.execute_input": "2022-05-26T22:50:31.268180Z",
     "iopub.status.busy": "2022-05-26T22:50:31.268180Z",
     "iopub.status.idle": "2022-05-26T22:50:31.274788Z",
     "shell.execute_reply": "2022-05-26T22:50:31.273243Z",
     "shell.execute_reply.started": "2022-05-26T22:50:31.268180Z"
    },
    "tags": []
   },
   "outputs": [],
   "source": [
    "#There is no need to declare methods directly within the class declaration\n",
    "\n",
    "def f1(self, x, y): #at least one parameter \n",
    "    return min(x, x+y)\n",
    "\n",
    "class Third:\n",
    "    f = f1\n",
    "    def g(self):\n",
    "        print('Hello')\n",
    "    h = g"
   ]
  },
  {
   "cell_type": "code",
   "execution_count": 70,
   "id": "553bd520-b8b2-49f1-b9ce-0ce8b02a1db4",
   "metadata": {
    "execution": {
     "iopub.execute_input": "2022-05-26T22:51:09.471612Z",
     "iopub.status.busy": "2022-05-26T22:51:09.470614Z",
     "iopub.status.idle": "2022-05-26T22:51:09.488929Z",
     "shell.execute_reply": "2022-05-26T22:51:09.487630Z",
     "shell.execute_reply.started": "2022-05-26T22:51:09.471612Z"
    },
    "tags": []
   },
   "outputs": [
    {
     "name": "stdout",
     "output_type": "stream",
     "text": [
      "Help on class Third in module __main__:\n",
      "\n",
      "class Third(builtins.object)\n",
      " |  Methods defined here:\n",
      " |  \n",
      " |  f = f1(self, x, y)\n",
      " |  \n",
      " |  g(self)\n",
      " |  \n",
      " |  h = g(self)\n",
      " |  \n",
      " |  ----------------------------------------------------------------------\n",
      " |  Data descriptors defined here:\n",
      " |  \n",
      " |  __dict__\n",
      " |      dictionary for instance variables (if defined)\n",
      " |  \n",
      " |  __weakref__\n",
      " |      list of weak references to the object (if defined)\n",
      "\n"
     ]
    }
   ],
   "source": [
    "help(Third) # you can see structure of Third"
   ]
  },
  {
   "cell_type": "markdown",
   "id": "1b671883-4a66-4094-bd2b-c75f73d8217e",
   "metadata": {},
   "source": [
    "## Tasks\n",
    "1. Play with classes above, try to understand all mechanisms via running methods, creating instances, adding and modifying attributes\n",
    "2. Create class with next attributes:\n",
    "    - n = lenght of array (any number)\n",
    "    - empty **list** #In next steps **list** - list inside class, *list* - list outside class\n",
    "3. And next methods:\n",
    "    - appending elements from input *list* to existing **list**\n",
    "    - printing first n elements of **list**\n",
    "4. Create class instance and do next steps:\n",
    "    - generate more than 5 int numbers with border (0, 100)\n",
    "    - generate more than 5 float numbers with border (0, 1)\n",
    "5. Do next steps using only class attributes and methods:\n",
    "    - append all of these elements to **list**\n",
    "    - print first 75% of **list** \n",
    "6. In class:\n",
    "    - add method for appending elements from input *list* to existing **set**\n",
    "7. Create new class instance and do following steps:\n",
    "    - replace **list** to **set** \n",
    "    - repeat (4) and (5)\n",
    "8. Print structure of all classes and class instances and explain why thay have these structures"
   ]
  },
  {
   "cell_type": "code",
   "execution_count": null,
   "id": "1c956548-bc78-40dc-8463-48f2c8021bf4",
   "metadata": {},
   "outputs": [],
   "source": [
    "# Your code here"
   ]
  }
 ],
 "metadata": {
  "kernelspec": {
   "display_name": "Python 3 (ipykernel)",
   "language": "python",
   "name": "python3"
  },
  "language_info": {
   "codemirror_mode": {
    "name": "ipython",
    "version": 3
   },
   "file_extension": ".py",
   "mimetype": "text/x-python",
   "name": "python",
   "nbconvert_exporter": "python",
   "pygments_lexer": "ipython3",
   "version": "3.9.9"
  }
 },
 "nbformat": 4,
 "nbformat_minor": 5
}
